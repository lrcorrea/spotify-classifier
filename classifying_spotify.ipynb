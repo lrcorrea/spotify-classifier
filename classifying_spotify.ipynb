{
 "cells": [
  {
   "cell_type": "markdown",
   "metadata": {},
   "source": [
    "## Spotify Docs: https://developer.spotify.com/documentation/web-api/reference/tracks/get-audio-features/\n",
    "## Notações:\n",
    "<strong>duration_ms:</strong> Duração da música<br>\n",
    "<strong>key:</strong> Afinação (0 = C, 1 = C♯/D♭, 2 = D). Default = -1<br>\n",
    "<strong>mode:</strong> Escala musical (maior ou menor)<br>\n",
    "<strong>time_signature:</strong> quantas batidas possui em cada barra ex: 3/4<br>\n",
    "<strong>acousticness:</strong> confiabilidade da música ser acústica 1= certeza 0 =  não acústica<br>\n",
    "<strong>danceability:</strong> o quão dançável a música é: 1=mto 0=nada<br>\n",
    "<strong>energy:</strong> intencidade da música (rápidas, altas e barulhentas)<br>\n",
    "<strong>instrumentalness:</strong> conteúdo vocal na música: 1=sem vocal 0=mto vocal<br>\n",
    "<strong>liveness:</strong> chance da música ser ao vivo: 0.8>= grande chance de ser ao vivo<br>\n",
    "<strong>loudness:</strong> valores decibéis (dB) da música<br>\n",
    "<strong>speechiness:</strong> Quanto mais próximo de 1 maior a chance de ser podcast, audiobook ou poesia 0.33 >= && 0.66< (maior chance de vocal com música) <0.33 músicas quase ou sem vocal<br>\n",
    "<strong>valence:</strong> Quanto mais próxima de 1 mais alegra e quanto mais próximo de 0 é mais triste<br>\n",
    "<strong>tempo:</strong> BPMN"
   ]
  },
  {
   "cell_type": "code",
   "execution_count": 213,
   "metadata": {},
   "outputs": [
    {
     "name": "stderr",
     "output_type": "stream",
     "text": [
      "C:\\Users\\Lucas\\anaconda3\\lib\\site-packages\\IPython\\core\\interactiveshell.py:3063: DtypeWarning: Columns (11,18) have mixed types.Specify dtype option on import or set low_memory=False.\n",
      "  interactivity=interactivity, compiler=compiler, result=result)\n"
     ]
    },
    {
     "data": {
      "text/html": [
       "<div>\n",
       "<style scoped>\n",
       "    .dataframe tbody tr th:only-of-type {\n",
       "        vertical-align: middle;\n",
       "    }\n",
       "\n",
       "    .dataframe tbody tr th {\n",
       "        vertical-align: top;\n",
       "    }\n",
       "\n",
       "    .dataframe thead th {\n",
       "        text-align: right;\n",
       "    }\n",
       "</style>\n",
       "<table border=\"1\" class=\"dataframe\">\n",
       "  <thead>\n",
       "    <tr style=\"text-align: right;\">\n",
       "      <th></th>\n",
       "      <th>Name</th>\n",
       "      <th>Danceability</th>\n",
       "      <th>Energy</th>\n",
       "      <th>Key</th>\n",
       "      <th>Loudness</th>\n",
       "      <th>Mode</th>\n",
       "      <th>Speechness</th>\n",
       "      <th>Acousticness</th>\n",
       "      <th>Instrumentalness</th>\n",
       "      <th>Liveness</th>\n",
       "      <th>Valence</th>\n",
       "      <th>Tempo</th>\n",
       "      <th>Type</th>\n",
       "      <th>ID</th>\n",
       "      <th>Uri</th>\n",
       "      <th>Ref_Track</th>\n",
       "      <th>URL_features</th>\n",
       "      <th>Duration_ms</th>\n",
       "      <th>time_signature</th>\n",
       "      <th>Genre</th>\n",
       "    </tr>\n",
       "  </thead>\n",
       "  <tbody>\n",
       "    <tr>\n",
       "      <th>0</th>\n",
       "      <td>YuveYuveYu</td>\n",
       "      <td>0.624</td>\n",
       "      <td>0.857</td>\n",
       "      <td>10.0</td>\n",
       "      <td>-6.250</td>\n",
       "      <td>0.0</td>\n",
       "      <td>0.0542</td>\n",
       "      <td>0.020800</td>\n",
       "      <td>0.206000</td>\n",
       "      <td>0.110</td>\n",
       "      <td>0.324</td>\n",
       "      <td>131.926</td>\n",
       "      <td>audio_features</td>\n",
       "      <td>6J2VvzKwWc2f0JP5RQVZjq</td>\n",
       "      <td>spotify:track:6J2VvzKwWc2f0JP5RQVZjq</td>\n",
       "      <td>https://api.spotify.com/v1/tracks/6J2VvzKwWc2f...</td>\n",
       "      <td>https://api.spotify.com/v1/audio-analysis/6J2V...</td>\n",
       "      <td>282920.0</td>\n",
       "      <td>4.0</td>\n",
       "      <td>celticmetal</td>\n",
       "    </tr>\n",
       "    <tr>\n",
       "      <th>1</th>\n",
       "      <td>Gloryhammer</td>\n",
       "      <td>0.517</td>\n",
       "      <td>0.916</td>\n",
       "      <td>0.0</td>\n",
       "      <td>-4.933</td>\n",
       "      <td>1.0</td>\n",
       "      <td>0.0559</td>\n",
       "      <td>0.000182</td>\n",
       "      <td>0.001910</td>\n",
       "      <td>0.306</td>\n",
       "      <td>0.444</td>\n",
       "      <td>135.996</td>\n",
       "      <td>audio_features</td>\n",
       "      <td>4HA34COgxgVJ6zK88UN4Ik</td>\n",
       "      <td>spotify:track:4HA34COgxgVJ6zK88UN4Ik</td>\n",
       "      <td>https://api.spotify.com/v1/tracks/4HA34COgxgVJ...</td>\n",
       "      <td>https://api.spotify.com/v1/audio-analysis/4HA3...</td>\n",
       "      <td>300320.0</td>\n",
       "      <td>4.0</td>\n",
       "      <td>celticmetal</td>\n",
       "    </tr>\n",
       "    <tr>\n",
       "      <th>2</th>\n",
       "      <td>Nostos</td>\n",
       "      <td>0.251</td>\n",
       "      <td>0.894</td>\n",
       "      <td>8.0</td>\n",
       "      <td>-4.103</td>\n",
       "      <td>0.0</td>\n",
       "      <td>0.0570</td>\n",
       "      <td>0.014400</td>\n",
       "      <td>0.000000</td>\n",
       "      <td>0.123</td>\n",
       "      <td>0.297</td>\n",
       "      <td>114.223</td>\n",
       "      <td>audio_features</td>\n",
       "      <td>3W6Xik6Xxf06JuUoZSATlD</td>\n",
       "      <td>spotify:track:3W6Xik6Xxf06JuUoZSATlD</td>\n",
       "      <td>https://api.spotify.com/v1/tracks/3W6Xik6Xxf06...</td>\n",
       "      <td>https://api.spotify.com/v1/audio-analysis/3W6X...</td>\n",
       "      <td>175353.0</td>\n",
       "      <td>4.0</td>\n",
       "      <td>celticmetal</td>\n",
       "    </tr>\n",
       "    <tr>\n",
       "      <th>3</th>\n",
       "      <td>Yggdrasil</td>\n",
       "      <td>0.469</td>\n",
       "      <td>0.743</td>\n",
       "      <td>1.0</td>\n",
       "      <td>-5.570</td>\n",
       "      <td>0.0</td>\n",
       "      <td>0.0272</td>\n",
       "      <td>0.002220</td>\n",
       "      <td>0.000111</td>\n",
       "      <td>0.276</td>\n",
       "      <td>0.481</td>\n",
       "      <td>86.953</td>\n",
       "      <td>audio_features</td>\n",
       "      <td>2gGveBaLJQMtJ43X4UL5kH</td>\n",
       "      <td>spotify:track:2gGveBaLJQMtJ43X4UL5kH</td>\n",
       "      <td>https://api.spotify.com/v1/tracks/2gGveBaLJQMt...</td>\n",
       "      <td>https://api.spotify.com/v1/audio-analysis/2gGv...</td>\n",
       "      <td>272292.0</td>\n",
       "      <td>4.0</td>\n",
       "      <td>celticmetal</td>\n",
       "    </tr>\n",
       "    <tr>\n",
       "      <th>4</th>\n",
       "      <td>Incense&amp;Iron</td>\n",
       "      <td>0.487</td>\n",
       "      <td>0.952</td>\n",
       "      <td>1.0</td>\n",
       "      <td>-4.429</td>\n",
       "      <td>0.0</td>\n",
       "      <td>0.0613</td>\n",
       "      <td>0.000228</td>\n",
       "      <td>0.000000</td>\n",
       "      <td>0.161</td>\n",
       "      <td>0.329</td>\n",
       "      <td>125.993</td>\n",
       "      <td>audio_features</td>\n",
       "      <td>1lRF81A1C9QoCgBcEop2zg</td>\n",
       "      <td>spotify:track:1lRF81A1C9QoCgBcEop2zg</td>\n",
       "      <td>https://api.spotify.com/v1/tracks/1lRF81A1C9Qo...</td>\n",
       "      <td>https://api.spotify.com/v1/audio-analysis/1lRF...</td>\n",
       "      <td>237933.0</td>\n",
       "      <td>4.0</td>\n",
       "      <td>celticmetal</td>\n",
       "    </tr>\n",
       "  </tbody>\n",
       "</table>\n",
       "</div>"
      ],
      "text/plain": [
       "           Name  Danceability  Energy   Key  Loudness  Mode  Speechness  \\\n",
       "0    YuveYuveYu         0.624   0.857  10.0    -6.250   0.0      0.0542   \n",
       "1   Gloryhammer         0.517   0.916   0.0    -4.933   1.0      0.0559   \n",
       "2        Nostos         0.251   0.894   8.0    -4.103   0.0      0.0570   \n",
       "3     Yggdrasil         0.469   0.743   1.0    -5.570   0.0      0.0272   \n",
       "4  Incense&Iron         0.487   0.952   1.0    -4.429   0.0      0.0613   \n",
       "\n",
       "   Acousticness  Instrumentalness  Liveness  Valence    Tempo            Type  \\\n",
       "0      0.020800          0.206000     0.110    0.324  131.926  audio_features   \n",
       "1      0.000182          0.001910     0.306    0.444  135.996  audio_features   \n",
       "2      0.014400          0.000000     0.123    0.297  114.223  audio_features   \n",
       "3      0.002220          0.000111     0.276    0.481   86.953  audio_features   \n",
       "4      0.000228          0.000000     0.161    0.329  125.993  audio_features   \n",
       "\n",
       "                       ID                                   Uri  \\\n",
       "0  6J2VvzKwWc2f0JP5RQVZjq  spotify:track:6J2VvzKwWc2f0JP5RQVZjq   \n",
       "1  4HA34COgxgVJ6zK88UN4Ik  spotify:track:4HA34COgxgVJ6zK88UN4Ik   \n",
       "2  3W6Xik6Xxf06JuUoZSATlD  spotify:track:3W6Xik6Xxf06JuUoZSATlD   \n",
       "3  2gGveBaLJQMtJ43X4UL5kH  spotify:track:2gGveBaLJQMtJ43X4UL5kH   \n",
       "4  1lRF81A1C9QoCgBcEop2zg  spotify:track:1lRF81A1C9QoCgBcEop2zg   \n",
       "\n",
       "                                           Ref_Track  \\\n",
       "0  https://api.spotify.com/v1/tracks/6J2VvzKwWc2f...   \n",
       "1  https://api.spotify.com/v1/tracks/4HA34COgxgVJ...   \n",
       "2  https://api.spotify.com/v1/tracks/3W6Xik6Xxf06...   \n",
       "3  https://api.spotify.com/v1/tracks/2gGveBaLJQMt...   \n",
       "4  https://api.spotify.com/v1/tracks/1lRF81A1C9Qo...   \n",
       "\n",
       "                                        URL_features  Duration_ms  \\\n",
       "0  https://api.spotify.com/v1/audio-analysis/6J2V...     282920.0   \n",
       "1  https://api.spotify.com/v1/audio-analysis/4HA3...     300320.0   \n",
       "2  https://api.spotify.com/v1/audio-analysis/3W6X...     175353.0   \n",
       "3  https://api.spotify.com/v1/audio-analysis/2gGv...     272292.0   \n",
       "4  https://api.spotify.com/v1/audio-analysis/1lRF...     237933.0   \n",
       "\n",
       "  time_signature        Genre  \n",
       "0            4.0  celticmetal  \n",
       "1            4.0  celticmetal  \n",
       "2            4.0  celticmetal  \n",
       "3            4.0  celticmetal  \n",
       "4            4.0  celticmetal  "
      ]
     },
     "execution_count": 213,
     "metadata": {},
     "output_type": "execute_result"
    }
   ],
   "source": [
    "import numpy as np\n",
    "import pandas as pd\n",
    "import re\n",
    "from sklearn.model_selection import train_test_split, cross_val_predict\n",
    "from sklearn.neural_network import MLPClassifier\n",
    "from sklearn.metrics import accuracy_score\n",
    "from sklearn.metrics import classification_report, confusion_matrix\n",
    "\n",
    "# with open(\"songDb.tsv\", 'r') as myfile:\n",
    "#     with open(\"songDb.csv\", 'w') as csv_file:\n",
    "#         for line in myfile:\n",
    "#             fileContent = re.sub(\"\\t\", \",\", line)\n",
    "#             csv_file.write(fileContent)\n",
    "        \n",
    "#Load dataset\n",
    "playlistSpotify = pd.read_csv('songDb.csv', dtype={},encoding='ISO-8859-1')\n",
    "# playlistSpotify = pd.read_csv('short_songDb.csv', dtype={},encoding='ISO-8859-1')\n",
    "playlistSpotify.head()"
   ]
  },
  {
   "cell_type": "code",
   "execution_count": 230,
   "metadata": {},
   "outputs": [
    {
     "name": "stdout",
     "output_type": "stream",
     "text": [
      "ok\n"
     ]
    }
   ],
   "source": [
    "playlist = [] #array com dados formatados\n",
    "speechiness = 0\n",
    "for key, songData in playlistSpotify.iterrows():\n",
    "#     print('songData.Speechness', songData.Speechness)\n",
    "    if(songData.Speechness < 0.33):\n",
    "        speechiness = 0\n",
    "    elif (songData.Speechness >= 0.33 and songData.Speechness < 0.66):\n",
    "#         print('musica e fala', songData.Speechness)\n",
    "        speechiness = 1\n",
    "    else:\n",
    "        speechiness = 2\n",
    "#         print('somente fala', songData.Speechness)\n",
    "        \n",
    "#     print('speechiness',speechiness)\n",
    "    playlist.append([\n",
    "        songData.Danceability,\n",
    "        songData.Energy,\n",
    "        songData.Loudness,\n",
    "        speechiness,# songData.Speechness,\n",
    "        songData.Acousticness,\n",
    "        songData.Instrumentalness,\n",
    "        songData.Liveness,# 1 if songData.Liveness > 0.8 else 0,\n",
    "        songData.Valence,\n",
    "        songData.Tempo\n",
    "    ])\n",
    "\n",
    "print('ok')\n",
    "# print(playlist)\n",
    "# print('\\n'.join('{}: {}'.format(*k) for k in enumerate(playlist)))"
   ]
  },
  {
   "cell_type": "code",
   "execution_count": 231,
   "metadata": {},
   "outputs": [
    {
     "name": "stdout",
     "output_type": "stream",
     "text": [
      "0         0\n",
      "1         0\n",
      "2         0\n",
      "3         0\n",
      "4         0\n",
      "         ..\n",
      "131575    0\n",
      "131576    0\n",
      "131577    0\n",
      "131578    0\n",
      "131579    0\n",
      "Name: 3, Length: 131580, dtype: int32\n",
      "            0      1      2  3         4         5      6      7\n",
      "0       0.624  0.857 -6.250  0  0.020800  0.206000  0.110  0.324\n",
      "1       0.517  0.916 -4.933  0  0.000182  0.001910  0.306  0.444\n",
      "2       0.251  0.894 -4.103  0  0.014400  0.000000  0.123  0.297\n",
      "3       0.469  0.743 -5.570  0  0.002220  0.000111  0.276  0.481\n",
      "4       0.487  0.952 -4.429  0  0.000228  0.000000  0.161  0.329\n",
      "...       ...    ...    ... ..       ...       ...    ...    ...\n",
      "131575  0.568  0.708 -9.960  0  0.007930  0.000528  0.266  0.214\n",
      "131576  0.470  0.909 -1.674  0  0.061100  0.000000  0.294  0.607\n",
      "131577  0.272  0.918 -2.589  0  0.000749  0.009200  0.307  0.530\n",
      "131578  0.402  0.902 -4.115  0  0.000073  0.004650  0.261  0.569\n",
      "131579  0.482  0.839 -4.171  0  0.013400  0.244000  0.104  0.571\n",
      "\n",
      "[131580 rows x 8 columns]\n"
     ]
    }
   ],
   "source": [
    "# Atributos e classes\n",
    "pdPlaylist = pd.DataFrame(playlist)\n",
    "\n",
    "X = pdPlaylist.iloc[:, 0:8]\n",
    "y = pdPlaylist.iloc[: ,3]\n",
    "# y = pdPlaylist.iloc[: ,6]\n",
    "\n",
    "y = y.astype('int')\n",
    "\n",
    "\n",
    "print(y)\n",
    "print(X)"
   ]
  },
  {
   "cell_type": "code",
   "execution_count": 232,
   "metadata": {},
   "outputs": [],
   "source": [
    "X_train, X_test, y_train, y_test = train_test_split(X, y, test_size = 0.3)"
   ]
  },
  {
   "cell_type": "code",
   "execution_count": 233,
   "metadata": {},
   "outputs": [],
   "source": [
    "# from sklearn.preprocessing import StandardScaler\n",
    "# scaler = StandardScaler()\n",
    "# scaler.fit(X_train)\n",
    "\n",
    "# X_train = scaler.transform(X_train)\n",
    "# X_test = scaler.transform(X_test)"
   ]
  },
  {
   "cell_type": "code",
   "execution_count": 234,
   "metadata": {},
   "outputs": [],
   "source": [
    "# print(X_test)"
   ]
  },
  {
   "cell_type": "code",
   "execution_count": 235,
   "metadata": {},
   "outputs": [
    {
     "data": {
      "text/plain": [
       "MLPClassifier(activation='relu', alpha=0.0001, batch_size='auto', beta_1=0.9,\n",
       "              beta_2=0.999, early_stopping=False, epsilon=1e-08,\n",
       "              hidden_layer_sizes=(10, 10, 10), learning_rate='constant',\n",
       "              learning_rate_init=0.001, max_fun=15000, max_iter=1000,\n",
       "              momentum=0.9, n_iter_no_change=10, nesterovs_momentum=True,\n",
       "              power_t=0.5, random_state=None, shuffle=True, solver='adam',\n",
       "              tol=0.0001, validation_fraction=0.1, verbose=False,\n",
       "              warm_start=False)"
      ]
     },
     "execution_count": 235,
     "metadata": {},
     "output_type": "execute_result"
    }
   ],
   "source": [
    "mlp = MLPClassifier(hidden_layer_sizes=(10, 10, 10), max_iter=1000)\n",
    "mlp.fit(X_train, y_train.values.ravel())"
   ]
  },
  {
   "cell_type": "code",
   "execution_count": 242,
   "metadata": {},
   "outputs": [],
   "source": [
    "predictions = mlp.predict(X_test)"
   ]
  },
  {
   "cell_type": "code",
   "execution_count": 243,
   "metadata": {},
   "outputs": [
    {
     "name": "stdout",
     "output_type": "stream",
     "text": [
      "[[38211     0     0]\n",
      " [    0  1031     0]\n",
      " [    0     3   229]]\n",
      "              precision    recall  f1-score   support\n",
      "\n",
      "           0       1.00      1.00      1.00     38211\n",
      "           1       1.00      1.00      1.00      1031\n",
      "           2       1.00      0.99      0.99       232\n",
      "\n",
      "    accuracy                           1.00     39474\n",
      "   macro avg       1.00      1.00      1.00     39474\n",
      "weighted avg       1.00      1.00      1.00     39474\n",
      "\n"
     ]
    }
   ],
   "source": [
    "# print(classification_report(y_test,predictions,zero_division=0)) \n",
    "# print(classification_report(y_test,predictions,zero_division=0))\n",
    "\n",
    "print(confusion_matrix(y_test,predictions))\n",
    "print(classification_report(y_test,predictions))"
   ]
  },
  {
   "cell_type": "code",
   "execution_count": 244,
   "metadata": {},
   "outputs": [
    {
     "data": {
      "text/plain": [
       "99.98784009727922"
      ]
     },
     "execution_count": 244,
     "metadata": {},
     "output_type": "execute_result"
    }
   ],
   "source": [
    "#Armazena as predicões\n",
    "predictions = cross_val_predict(mlp,X,y,cv=4)\n",
    "#Calcula acurácia do treino\n",
    "accuracy_score(y,predictions)*100"
   ]
  },
  {
   "cell_type": "code",
   "execution_count": 245,
   "metadata": {},
   "outputs": [
    {
     "data": {
      "text/plain": [
       "array([[127357,      7,      0],\n",
       "       [     4,   3376,      2],\n",
       "       [     1,      2,    831]], dtype=int64)"
      ]
     },
     "execution_count": 245,
     "metadata": {},
     "output_type": "execute_result"
    }
   ],
   "source": [
    "#Gera a matriz de confusão do treino\n",
    "confusion_matrix(y,predictions)"
   ]
  },
  {
   "cell_type": "code",
   "execution_count": 246,
   "metadata": {},
   "outputs": [
    {
     "name": "stdout",
     "output_type": "stream",
     "text": [
      "              precision    recall  f1-score   support\n",
      "\n",
      "           0       1.00      1.00      1.00    127364\n",
      "           1       1.00      1.00      1.00      3382\n",
      "           2       1.00      1.00      1.00       834\n",
      "\n",
      "    accuracy                           1.00    131580\n",
      "   macro avg       1.00      1.00      1.00    131580\n",
      "weighted avg       1.00      1.00      1.00    131580\n",
      "\n"
     ]
    }
   ],
   "source": [
    "#Gera a matriz de confusão do test\n",
    "print(classification_report(y,predictions,zero_division=0))"
   ]
  },
  {
   "cell_type": "code",
   "execution_count": null,
   "metadata": {},
   "outputs": [],
   "source": []
  }
 ],
 "metadata": {
  "kernelspec": {
   "display_name": "Python 3",
   "language": "python",
   "name": "python3"
  },
  "language_info": {
   "codemirror_mode": {
    "name": "ipython",
    "version": 3
   },
   "file_extension": ".py",
   "mimetype": "text/x-python",
   "name": "python",
   "nbconvert_exporter": "python",
   "pygments_lexer": "ipython3",
   "version": "3.7.6"
  }
 },
 "nbformat": 4,
 "nbformat_minor": 4
}
